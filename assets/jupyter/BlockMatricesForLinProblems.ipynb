{
 "cells": [
  {
   "cell_type": "markdown",
   "metadata": {},
   "source": [
    "# Block-matrix formulation for 1D problem\n",
    "Equation \n",
    "$$\\dfrac{d q}{d t} = -\\frac{x}{10} \\dfrac{d q}{d x} + 10^{-2} \\dfrac{d^2 q}{d x^2} + f(x,t) \\quad x \\in [1,10] , $$\n",
    "$$f(x,t) = e^{-x^2/.1}\\sin(t)$$\n",
    "\n",
    "Boundary conditions\n",
    "$$q(x=1,t) = 0 $$\n",
    "$$\\dfrac{\\partial q(x=10,t)}{\\partial x} = 0 $$\n",
    "\n",
    "Discretization method: first order in time (explicit) and in space. In order to simplify the code and make it easier to adapt to other problems/other formulations (e.g., implicit methods), we will use a block matrix approach.\n",
    "\n",
    "## Block matrix approach.\n",
    "Create a matrix which approximates the spatial derivative operator, $D_x \\approx \\dfrac{\\partial }{\\partial x}$, and a diagonal matrix which has the coefficients in front of the derivative operator:\n",
    "$$ D_x = \\frac{1}{\\Delta x}\\left[ \\begin{matrix} \n",
    "    -1 & 1 & \\cdots & & \\\\\n",
    "    -1 & 1 & \\cdots & & \\\\\n",
    "     0 & -1 & 1 & \\cdots & & \\\\\n",
    "     0 & 0 & -1 & 1 & \\cdots & & \\\\\n",
    "    \\vdots & \\vdots & \\vdots &\\vdots & \\ddots & & \\\\\n",
    "    & & & & \\cdots & -1 & 1 \\\\\n",
    "    & & & & \\cdots & -1 & 1 \\\\\n",
    "\\end{matrix}\\right] , \n",
    "C = \\left[ \\begin{matrix} \n",
    "    x_1 & 0    & 0 &\\cdots  \\\\\n",
    "    0   & x_2  & 0 &\\cdots  \\\\\n",
    "    0   & 0    & x_3  &\\cdots  \\\\\n",
    "        &      &      &\\ddots  \n",
    "\\end{matrix}\\right] $$\n",
    "\n",
    "The semi-discretized equations can thus be writen as\n",
    "$$ \\dfrac{d Q}{d t} = \\underbrace{C_1 D_x + C_2 D_{xx} }_A Q + F(t), $$\n"
   ]
  },
  {
   "cell_type": "code",
   "execution_count": 1,
   "metadata": {},
   "outputs": [],
   "source": [
    "import numpy as np\n",
    "\n",
    "deltax = .1\n",
    "x0 = 1\n",
    "x1 = 10\n",
    "\n",
    "x = np.arange(x0,x1,deltax)\n",
    "nx = len(x)\n",
    "\n",
    "# Create first order derivative matrix\n",
    "Dx  = np.zeros((nx,nx))\n",
    "\n",
    "Dx[0,0] = -1.0/deltax\n",
    "Dx[0,1] =  1.0/deltax\n",
    "\n",
    "for i in range(1,nx):\n",
    "    Dx[i,i]     =  1.0/deltax\n",
    "    Dx[i,i-1]   = -1.0/deltax\n",
    "\n",
    "# Create second order derivative matrix\n",
    "Dxx = np.zeros((nx,nx))\n",
    "\n",
    "Dxx[0,0] = 1.0/deltax**2\n",
    "Dxx[0,1] = -2.0/deltax**2\n",
    "Dxx[0,2] = 1.0/deltax**2\n",
    "\n",
    "for i in range(1,nx-1):\n",
    "    Dxx[i,i-1] =  1.0/deltax**2\n",
    "    Dxx[i,i  ] = -2.0/deltax**2\n",
    "    Dxx[i,i+1] =  1.0/deltax**2\n",
    "Dxx[-1,-3] =  1.0/deltax**2\n",
    "Dxx[-1,-2] = -2.0/deltax**2\n",
    "Dxx[-1,-1] =  1.0/deltax**2\n",
    "\n",
    "# Create the constant diagonal matrix\n",
    "C0 =-np.diag(x)/1\n",
    "C1 = np.eye(nx)*1e-2\n",
    "\n",
    "\n",
    "# Create the linear operator\n",
    "A =  np.matmul(C0,Dx) + np.matmul(C1,Dxx) \n",
    "# A =  np.matmul(C1,Dxx) \n",
    "\n"
   ]
  },
  {
   "cell_type": "markdown",
   "metadata": {},
   "source": [
    "# Boundary conditions\n",
    "## Dirichlet : Impose $q(x=1,t)=0$.\n",
    "Imposing this condition, the vector \n",
    "$$ Q = \\left[ \\begin{matrix} \n",
    "    q_1 \\\\ q_2 \\\\ q_3 \\\\ \\vdots\n",
    "\\end{matrix}\\right] $$\n",
    "becomes \n",
    "$$ \\left[ \\begin{matrix} \n",
    "    0 \\\\ q_2 \\\\ q_3 \\\\ \\vdots\n",
    "\\end{matrix}\\right]  \n",
    "=  \\left[ \\begin{matrix} \n",
    "    0 \\\\ \\tilde{Q}\n",
    "\\end{matrix}\\right]   $$\n",
    "\n",
    "The problem, with the boundary conditions can thus be re-writen as \n",
    "$$ \\dfrac{d \\tilde{Q}}{dt} = \\tilde{A}\\tilde{Q} + \\tilde{F} $$\n",
    "where $\\tilde{F}$ is $F$ with the first entry removed, and $\\tilde{A}$ is $A$ with the first line and row removed.\n",
    "\n",
    "## Neumann Conditions : $\\dfrac{\\partial q}{\\partial x}(x=10,t)$ = 0\n",
    "To impose this boundary condition we will perform a change in the DOFs of the problem:\n",
    "$$Q = \\left[ \\begin{matrix} \n",
    "    q_1 \\\\ \\vdots \\\\ q_{n-1} \\\\ q_{n}\n",
    "\\end{matrix}\\right] \\to  \n",
    "\\tilde{Q} = \\left[ \\begin{matrix} \n",
    "    q_1 \\\\ \\vdots \\\\ q_{n-1} \\\\ \\frac{\\partial q_{n}}{\\partial x}\n",
    "\\end{matrix}\\right] \n",
    "$$\n",
    "\n",
    "This is obtained as\n",
    "$$\\tilde{Q} = \\underbrace{\\left[ \\begin{matrix} \n",
    "    1 & 0 & \\cdots \\\\ \n",
    "    0  & 1 & \\cdots \\\\\n",
    "    \\vdots & \\vdots \\\\ \\ddots \\\\\n",
    "     - & D_x[end,:] & -\n",
    "\\end{matrix}\\right]}_T Q $$\n",
    "\n",
    "Multiplying the equation by $T$, we can re-write it as\n",
    "$$ \\dfrac{d \\tilde{Q}}{dt} = T A T^{-1} T Q + T F = \\tilde{A} \\tilde{Q} + \\tilde{F} $$  \n",
    "\n",
    "We can then impose the b.c. as before: removing the last line and column of the matrix."
   ]
  },
  {
   "cell_type": "code",
   "execution_count": 2,
   "metadata": {},
   "outputs": [],
   "source": [
    "T = np.eye(nx)\n",
    "T[-1,:] = Dx[-1,:]\n",
    "Ti = np.linalg.inv(T)\n",
    "\n",
    "At = np.matmul(T ,A )\n",
    "At = np.matmul(At, Ti )\n",
    "\n",
    "\n",
    "Abc = At[1:-1,1:-1] # Apply boundary conditions\n"
   ]
  },
  {
   "cell_type": "markdown",
   "metadata": {},
   "source": [
    "## Explicit time-stepping\n",
    "$$ Q^{n+1}  = (I + \\Delta t A) Q^n + F^n$$\n"
   ]
  },
  {
   "cell_type": "code",
   "execution_count": 3,
   "metadata": {},
   "outputs": [],
   "source": [
    "deltat = 1e-3\n",
    "Ttotal = 20\n",
    "nt = round(Ttotal/deltat)\n",
    "t = np.arange(0,nt*deltat,deltat)\n",
    "Q0  = (x-1)*(x-10)**2*0\n",
    "Qt  = Q0[1:-1] # remove dofs at the boundaries\n",
    "Qt  = Qt.reshape((nx-2,1))\n",
    "\n",
    "I = np.eye(nx-2) # as now Q has nx-2 elements\n",
    "QQt = np.zeros((nx-2,nt)) # matrix to store the solution\n",
    "QQt[:,0] = Qt[:,0] # store the initial condition\n",
    "for i in range(1,nt):\n",
    "    # print(i)\n",
    "    F = np.exp(-(x-2)**2/.1)*np.sin(deltat*(i-1))\n",
    "    F = F[1:-1]\n",
    "    F = F.reshape((nx-2,1))\n",
    "    Qt = np.matmul( I + deltat * Abc , Qt) + deltat*F\n",
    "    QQt[:,i] = Qt[:,0]\n"
   ]
  },
  {
   "cell_type": "markdown",
   "metadata": {},
   "source": [
    "# Plot solutions\n"
   ]
  },
  {
   "cell_type": "code",
   "execution_count": 4,
   "metadata": {},
   "outputs": [
    {
     "data": {
      "text/plain": [
       "<matplotlib.colorbar.Colorbar at 0x7ff6806586a0>"
      ]
     },
     "execution_count": 4,
     "metadata": {},
     "output_type": "execute_result"
    },
    {
     "data": {
      "image/png": "[encoded data removed]",
      "text/plain": [
       "<Figure size 432x288 with 1 Axes>"
      ]
     },
     "metadata": {
      "needs_background": "light"
     },
     "output_type": "display_data"
    },
    {
     "data": {
      "image/png": "[encoded data removed]",
      "text/plain": [
       "<Figure size 432x288 with 2 Axes>"
      ]
     },
     "metadata": {
      "needs_background": "light"
     },
     "output_type": "display_data"
    }
   ],
   "source": [
    "import matplotlib.pyplot as plt\n",
    "\n",
    "# Reconstruct Q from Qt\n",
    "## Add the boundary conditions\n",
    "QQ =  np.concatenate((np.zeros((1,nt)),QQt,np.zeros((1,nt))),axis=0)\n",
    "QQ = np.matmul(Ti , QQ)\n",
    "\n",
    "\n",
    "plt.plot(x,QQ[:,0])\n",
    "plt.plot(x,QQ[:,-1])\n",
    "plt.legend(['Initial','Final'])\n",
    "\n",
    "plt.figure()\n",
    "plt.contourf(t,x,QQ)\n",
    "plt.colorbar()"
   ]
  }
 ],
 "metadata": {
  "kernelspec": {
   "display_name": "base",
   "language": "python",
   "name": "python3"
  },
  "language_info": {
   "codemirror_mode": {
    "name": "ipython",
    "version": 3
   },
   "file_extension": ".py",
   "mimetype": "text/x-python",
   "name": "python",
   "nbconvert_exporter": "python",
   "pygments_lexer": "ipython3",
   "version": "3.9.12"
  }
 },
 "nbformat": 4,
 "nbformat_minor": 2
}
